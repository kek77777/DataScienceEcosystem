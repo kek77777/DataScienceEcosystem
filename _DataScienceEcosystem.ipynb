{
 "cells": [
  {
   "cell_type": "markdown",
   "id": "f89759af-4e1a-47fd-bfaf-cd67070e529b",
   "metadata": {},
   "source": [
    "# Data Science Tools and Ecosystem\n"
   ]
  },
  {
   "cell_type": "markdown",
   "id": "d587d9c5-bcb8-4e8b-ba2e-8b13bc44d3d8",
   "metadata": {},
   "source": [
    "In this notebook, Data Science Tools and Ecosystem are summarized."
   ]
  },
  {
   "cell_type": "markdown",
   "id": "1a9eb722-c2d1-4da1-a93e-8e2a83e48480",
   "metadata": {},
   "source": [
    "Some of the popular languages that Data Scientists use are:\n",
    "1. Python\n",
    "2. R\n",
    "3. Scala"
   ]
  },
  {
   "cell_type": "markdown",
   "id": "adbcd451-856e-4756-aa5a-6afded2e5dbd",
   "metadata": {},
   "source": [
    "Some of the commonly used libraries used by Data Scientists include:\n",
    "1. Pandas\n",
    "2. Numpy\n",
    "3. Matplotlib\n",
    "4. Scikit-Learn\n",
    "5. Seaborn\n",
    "6. Keras\n"
   ]
  },
  {
   "cell_type": "markdown",
   "id": "7473eb64-dccc-4c92-8edf-707999573b43",
   "metadata": {},
   "source": [
    "| Data Science Tools | \n",
    "---------------------\n",
    "|       Jupiter      |\n",
    "|       R-studio     |\n",
    "|         Git        |"
   ]
  },
  {
   "cell_type": "markdown",
   "id": "261eb358-dc07-4a3f-b844-596913cc1eb5",
   "metadata": {},
   "source": [
    "### Below are a few examples of evaluating arithmetic expressions in Python"
   ]
  },
  {
   "cell_type": "code",
   "execution_count": 9,
   "id": "f3652f50-3f0a-4514-b218-c4e5501aa6e4",
   "metadata": {},
   "outputs": [
    {
     "data": {
      "text/plain": [
       "17"
      ]
     },
     "execution_count": 9,
     "metadata": {},
     "output_type": "execute_result"
    }
   ],
   "source": [
    "(3*4)+5"
   ]
  },
  {
   "cell_type": "code",
   "execution_count": 20,
   "id": "70a74c40-55a3-444b-82d4-c7eb6e80f2c7",
   "metadata": {},
   "outputs": [
    {
     "data": {
      "text/plain": [
       "3.3333333333333335"
      ]
     },
     "execution_count": 20,
     "metadata": {},
     "output_type": "execute_result"
    }
   ],
   "source": [
    "#This will convert 200 minutes to hours by diving by 60\n",
    "200/60"
   ]
  },
  {
   "cell_type": "markdown",
   "id": "92b49f2d-7b18-4d39-bb30-200c677bcf43",
   "metadata": {},
   "source": [
    "**Objectives:**"
   ]
  },
  {
   "cell_type": "markdown",
   "id": "2c2ceac0-6651-4e0a-815c-52ccab5c49a4",
   "metadata": {},
   "source": [
    "List popular languages for Data Science:\n",
    "* Python\n",
    "* R\n",
    "* Scala                      "
   ]
  },
  {
   "cell_type": "markdown",
   "id": "4170404a-9645-4f96-91e6-2e6e5d378425",
   "metadata": {},
   "source": [
    "## Author\n",
    "Y.Karpuk"
   ]
  },
  {
   "cell_type": "code",
   "execution_count": null,
   "id": "37f9a2c3-5bc8-4cc8-b724-2a72e54ea99f",
   "metadata": {},
   "outputs": [],
   "source": []
  }
 ],
 "metadata": {
  "kernelspec": {
   "display_name": "Python 3 (ipykernel)",
   "language": "python",
   "name": "python3"
  },
  "language_info": {
   "codemirror_mode": {
    "name": "ipython",
    "version": 3
   },
   "file_extension": ".py",
   "mimetype": "text/x-python",
   "name": "python",
   "nbconvert_exporter": "python",
   "pygments_lexer": "ipython3",
   "version": "3.11.7"
  }
 },
 "nbformat": 4,
 "nbformat_minor": 5
}
